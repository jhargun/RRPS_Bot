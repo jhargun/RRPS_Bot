{
  "nbformat": 4,
  "nbformat_minor": 0,
  "metadata": {
    "colab": {
      "provenance": []
    },
    "kernelspec": {
      "name": "python3",
      "display_name": "Python 3"
    },
    "language_info": {
      "name": "python"
    }
  },
  "cells": [
    {
      "cell_type": "markdown",
      "source": [
        "# Provided code"
      ],
      "metadata": {
        "id": "bMEANO5u7VkS"
      }
    },
    {
      "cell_type": "code",
      "execution_count": null,
      "metadata": {
        "colab": {
          "base_uri": "https://localhost:8080/"
        },
        "id": "wtLHykNf7DC5",
        "outputId": "daad2641-3365-4ed2-f0c9-36839f844fbf"
      },
      "outputs": [
        {
          "output_type": "stream",
          "name": "stdout",
          "text": [
            "Collecting open_spiel\n",
            "  Downloading open_spiel-1.4-cp310-cp310-manylinux_2_17_x86_64.manylinux2014_x86_64.whl (5.6 MB)\n",
            "\u001b[2K     \u001b[90m━━━━━━━━━━━━━━━━━━━━━━━━━━━━━━━━━━━━━━━━\u001b[0m \u001b[32m5.6/5.6 MB\u001b[0m \u001b[31m31.4 MB/s\u001b[0m eta \u001b[36m0:00:00\u001b[0m\n",
            "\u001b[?25hRequirement already satisfied: pip>=20.0.2 in /usr/local/lib/python3.10/dist-packages (from open_spiel) (23.1.2)\n",
            "Requirement already satisfied: attrs>=19.3.0 in /usr/local/lib/python3.10/dist-packages (from open_spiel) (23.1.0)\n",
            "Requirement already satisfied: absl-py>=0.10.0 in /usr/local/lib/python3.10/dist-packages (from open_spiel) (1.4.0)\n",
            "Requirement already satisfied: numpy>=1.21.5 in /usr/local/lib/python3.10/dist-packages (from open_spiel) (1.23.5)\n",
            "Requirement already satisfied: scipy>=1.10.1 in /usr/local/lib/python3.10/dist-packages (from open_spiel) (1.11.4)\n",
            "Collecting ml-collections>=0.1.1 (from open_spiel)\n",
            "  Downloading ml_collections-0.1.1.tar.gz (77 kB)\n",
            "\u001b[2K     \u001b[90m━━━━━━━━━━━━━━━━━━━━━━━━━━━━━━━━━━━━━━━━\u001b[0m \u001b[32m77.9/77.9 kB\u001b[0m \u001b[31m12.2 MB/s\u001b[0m eta \u001b[36m0:00:00\u001b[0m\n",
            "\u001b[?25h  Preparing metadata (setup.py) ... \u001b[?25l\u001b[?25hdone\n",
            "Requirement already satisfied: PyYAML in /usr/local/lib/python3.10/dist-packages (from ml-collections>=0.1.1->open_spiel) (6.0.1)\n",
            "Requirement already satisfied: six in /usr/local/lib/python3.10/dist-packages (from ml-collections>=0.1.1->open_spiel) (1.16.0)\n",
            "Requirement already satisfied: contextlib2 in /usr/local/lib/python3.10/dist-packages (from ml-collections>=0.1.1->open_spiel) (21.6.0)\n",
            "Building wheels for collected packages: ml-collections\n",
            "  Building wheel for ml-collections (setup.py) ... \u001b[?25l\u001b[?25hdone\n",
            "  Created wheel for ml-collections: filename=ml_collections-0.1.1-py3-none-any.whl size=94505 sha256=939f331681956ce33d356a0d305528f47ca7db855428998b89643d5346069d37\n",
            "  Stored in directory: /root/.cache/pip/wheels/7b/89/c9/a9b87790789e94aadcfc393c283e3ecd5ab916aed0a31be8fe\n",
            "Successfully built ml-collections\n",
            "Installing collected packages: ml-collections, open_spiel\n",
            "Successfully installed ml-collections-0.1.1 open_spiel-1.4\n"
          ]
        }
      ],
      "source": [
        "# Install open spiel\n",
        "!pip install --upgrade open_spiel"
      ]
    },
    {
      "cell_type": "code",
      "source": [
        "# Imports\n",
        "import numpy as np\n",
        "\n",
        "from open_spiel.python import rl_agent\n",
        "from open_spiel.python import rl_environment\n",
        "import pyspiel"
      ],
      "metadata": {
        "id": "qkTsndo37PAv"
      },
      "execution_count": null,
      "outputs": []
    },
    {
      "cell_type": "code",
      "source": [
        "# Some helper classes and functions.\n",
        "# DO NOT CHANGE.\n",
        "\n",
        "class BotAgent(rl_agent.AbstractAgent):\n",
        "  \"\"\"Agent class that wraps a bot.\n",
        "\n",
        "  Note, the environment must include the OpenSpiel state in its observations,\n",
        "  which means it must have been created with use_full_state=True.\n",
        "\n",
        "  This is a simple wrapper that lets the RPS bots be interpreted as agents under\n",
        "  the RL API.\n",
        "  \"\"\"\n",
        "\n",
        "  def __init__(self, num_actions, bot, name=\"bot_agent\"):\n",
        "    assert num_actions > 0\n",
        "    self._bot = bot\n",
        "    self._num_actions = num_actions\n",
        "\n",
        "  def restart(self):\n",
        "    self._bot.restart()\n",
        "\n",
        "  def step(self, time_step, is_evaluation=False):\n",
        "    # If it is the end of the episode, don't select an action.\n",
        "    if time_step.last():\n",
        "      return\n",
        "    _, state = pyspiel.deserialize_game_and_state(\n",
        "        time_step.observations[\"serialized_state\"])\n",
        "    action = self._bot.step(state)\n",
        "    probs = np.zeros(self._num_actions)\n",
        "    probs[action] = 1.0\n",
        "    return rl_agent.StepOutput(action=action, probs=probs)\n",
        "\n",
        "\n",
        "#  We will use this function to evaluate the agents. Do not change.\n",
        "\n",
        "def eval_agents(env, agents, num_players, num_episodes, verbose=False):\n",
        "  \"\"\"Evaluate the agent.\n",
        "\n",
        "  Runs a number of episodes and returns the average returns for each agent as\n",
        "  a numpy array.\n",
        "\n",
        "  Arguments:\n",
        "    env: the RL environment,\n",
        "    agents: a list of agents (size 2),\n",
        "    num_players: number of players in the game (for RRPS, this is 2),\n",
        "    num_episodes: number of evaluation episodes to run.\n",
        "    verbose: whether to print updates after each episode.\n",
        "  \"\"\"\n",
        "  sum_episode_rewards = np.zeros(num_players)\n",
        "  for ep in range(num_episodes):\n",
        "    for agent in agents:\n",
        "      # Bots need to be restarted at the start of the episode.\n",
        "      if hasattr(agent, \"restart\"):\n",
        "        agent.restart()\n",
        "    time_step = env.reset()\n",
        "    episode_rewards = np.zeros(num_players)\n",
        "    while not time_step.last():\n",
        "      agents_output = [\n",
        "          agent.step(time_step, is_evaluation=True) for agent in agents\n",
        "      ]\n",
        "      action_list = [agent_output.action for agent_output in agents_output]\n",
        "      print('action_list:', action_list)\n",
        "      raise\n",
        "      time_step = env.step(action_list)\n",
        "      episode_rewards += time_step.rewards\n",
        "    sum_episode_rewards += episode_rewards\n",
        "    if verbose:\n",
        "      print(f\"Finished episode {ep}, \"\n",
        "            + f\"avg returns: {sum_episode_rewards / (ep+1)}\")\n",
        "\n",
        "  return sum_episode_rewards / num_episodes\n",
        "\n",
        "\n",
        "def print_roshambo_bot_names_and_ids(roshambo_bot_names):\n",
        "  print(\"Roshambo bot population:\")\n",
        "  for i in range(len(roshambo_bot_names)):\n",
        "    print(f\"{i}: {roshambo_bot_names[i]}\")\n",
        "\n",
        "def create_roshambo_bot_agent(player_id, num_actions, bot_names, pop_id):\n",
        "  name = bot_names[pop_id]\n",
        "  # Creates an OpenSpiel bot with the default number of throws\n",
        "  # (pyspiel.ROSHAMBO_NUM_THROWS). To create one for a different number of\n",
        "  # throws per episode, add the number as the third argument here.\n",
        "  bot = pyspiel.make_roshambo_bot(player_id, name)\n",
        "  return BotAgent(num_actions, bot, name=name)\n"
      ],
      "metadata": {
        "id": "Q6bwFdsT7l32"
      },
      "execution_count": null,
      "outputs": []
    },
    {
      "cell_type": "code",
      "source": [
        "print(\"Loading bot population...\")\n",
        "pop_size = pyspiel.ROSHAMBO_NUM_BOTS\n",
        "print(f\"Population size: {pop_size}\")\n",
        "roshambo_bot_names = pyspiel.roshambo_bot_names()\n",
        "roshambo_bot_names.sort()\n",
        "print_roshambo_bot_names_and_ids(roshambo_bot_names)\n",
        "\n",
        "bot_id = 0\n",
        "roshambo_bot_ids = {}\n",
        "for name in roshambo_bot_names:\n",
        "  roshambo_bot_ids[name] = bot_id\n",
        "  bot_id += 1"
      ],
      "metadata": {
        "colab": {
          "base_uri": "https://localhost:8080/"
        },
        "id": "2VnGvjA17ncW",
        "outputId": "733ca6ed-de85-4be0-d5e2-c57f61a603a5"
      },
      "execution_count": null,
      "outputs": [
        {
          "output_type": "stream",
          "name": "stdout",
          "text": [
            "Loading bot population...\n",
            "Population size: 43\n",
            "Roshambo bot population:\n",
            "0: actr_lag2_decay\n",
            "1: adddriftbot2\n",
            "2: addshiftbot3\n",
            "3: antiflatbot\n",
            "4: antirotnbot\n",
            "5: biopic\n",
            "6: boom\n",
            "7: copybot\n",
            "8: debruijn81\n",
            "9: driftbot\n",
            "10: flatbot3\n",
            "11: foxtrotbot\n",
            "12: freqbot2\n",
            "13: granite\n",
            "14: greenberg\n",
            "15: halbot\n",
            "16: inocencio\n",
            "17: iocainebot\n",
            "18: marble\n",
            "19: markov5\n",
            "20: markovbails\n",
            "21: mixed_strategy\n",
            "22: mod1bot\n",
            "23: multibot\n",
            "24: peterbot\n",
            "25: phasenbott\n",
            "26: pibot\n",
            "27: piedra\n",
            "28: predbot\n",
            "29: r226bot\n",
            "30: randbot\n",
            "31: robertot\n",
            "32: rockbot\n",
            "33: rotatebot\n",
            "34: russrocker4\n",
            "35: shofar\n",
            "36: sunCrazybot\n",
            "37: sunNervebot\n",
            "38: sweetrock\n",
            "39: switchalot\n",
            "40: switchbot\n",
            "41: textbot\n",
            "42: zq_move\n"
          ]
        }
      ]
    },
    {
      "cell_type": "code",
      "source": [
        "roshambo_bot_ids['greenberg']"
      ],
      "metadata": {
        "colab": {
          "base_uri": "https://localhost:8080/"
        },
        "id": "xXY6wOmk7u2X",
        "outputId": "8d79a651-cdfd-4c64-8951-a614086da7d2"
      },
      "execution_count": null,
      "outputs": [
        {
          "output_type": "execute_result",
          "data": {
            "text/plain": [
              "14"
            ]
          },
          "metadata": {},
          "execution_count": 5
        }
      ]
    },
    {
      "cell_type": "code",
      "source": [
        "# # Example: create an RL environment, and two agents from the bot population and\n",
        "# # evaluate these two agents head-to-head.\n",
        "\n",
        "# # Note that the include_full_state variable has to be enabled because the\n",
        "# # BotAgent needs access to the full state.\n",
        "# env = rl_environment.Environment(\n",
        "#     \"repeated_game(stage_game=matrix_rps(),num_repetitions=\" +\n",
        "#     f\"{pyspiel.ROSHAMBO_NUM_THROWS},\" +\n",
        "#     f\"recall={RECALL})\",\n",
        "#     include_full_state=True)\n",
        "# num_players = 2\n",
        "# num_actions = env.action_spec()[\"num_actions\"]\n",
        "# # Learning agents might need this:\n",
        "# # info_state_size = env.observation_spec()[\"info_state\"][0]\n",
        "\n",
        "# # Create two bot agents\n",
        "# p0_pop_id = 0   # actr_lag2_decay\n",
        "# p1_pop_id = 1   # adddriftbot2\n",
        "# agents = [\n",
        "#     create_roshambo_bot_agent(0, num_actions, roshambo_bot_names, p0_pop_id),\n",
        "#     create_roshambo_bot_agent(1, num_actions, roshambo_bot_names, p1_pop_id)\n",
        "# ]\n",
        "\n",
        "# print(\"Starting eval run.\")\n",
        "# avg_eval_returns = eval_agents(env, agents, num_players, 10, verbose=True)\n",
        "\n",
        "# print(\"Avg return \", avg_eval_returns)"
      ],
      "metadata": {
        "colab": {
          "base_uri": "https://localhost:8080/",
          "height": 249
        },
        "id": "pAp1mEkj-LFq",
        "outputId": "0abf3909-61b2-4b16-bb39-1b7b2b61de95"
      },
      "execution_count": null,
      "outputs": [
        {
          "output_type": "error",
          "ename": "NameError",
          "evalue": "ignored",
          "traceback": [
            "\u001b[0;31m---------------------------------------------------------------------------\u001b[0m",
            "\u001b[0;31mNameError\u001b[0m                                 Traceback (most recent call last)",
            "\u001b[0;32m<ipython-input-6-fdd4e2bf9431>\u001b[0m in \u001b[0;36m<cell line: 6>\u001b[0;34m()\u001b[0m\n\u001b[1;32m      7\u001b[0m     \u001b[0;34m\"repeated_game(stage_game=matrix_rps(),num_repetitions=\"\u001b[0m \u001b[0;34m+\u001b[0m\u001b[0;34m\u001b[0m\u001b[0;34m\u001b[0m\u001b[0m\n\u001b[1;32m      8\u001b[0m     \u001b[0;34mf\"{pyspiel.ROSHAMBO_NUM_THROWS},\"\u001b[0m \u001b[0;34m+\u001b[0m\u001b[0;34m\u001b[0m\u001b[0;34m\u001b[0m\u001b[0m\n\u001b[0;32m----> 9\u001b[0;31m     \u001b[0;34mf\"recall={RECALL})\"\u001b[0m\u001b[0;34m,\u001b[0m\u001b[0;34m\u001b[0m\u001b[0;34m\u001b[0m\u001b[0m\n\u001b[0m\u001b[1;32m     10\u001b[0m     include_full_state=True)\n\u001b[1;32m     11\u001b[0m \u001b[0mnum_players\u001b[0m \u001b[0;34m=\u001b[0m \u001b[0;36m2\u001b[0m\u001b[0;34m\u001b[0m\u001b[0;34m\u001b[0m\u001b[0m\n",
            "\u001b[0;31mNameError\u001b[0m: name 'RECALL' is not defined"
          ]
        }
      ]
    },
    {
      "cell_type": "markdown",
      "source": [
        "# My own code\n",
        "\n",
        "Altered or completely new code. Used to generate training data for LSTM"
      ],
      "metadata": {
        "id": "JQ0coh6N8TZV"
      }
    },
    {
      "cell_type": "code",
      "source": [
        "RECALL = 20\n",
        "env = rl_environment.Environment(\n",
        "    \"repeated_game(stage_game=matrix_rps(),num_repetitions=\" +\n",
        "    f\"{pyspiel.ROSHAMBO_NUM_THROWS},\" +\n",
        "    f\"recall={RECALL})\",\n",
        "    include_full_state=True)\n",
        "num_players = 2\n",
        "num_actions = env.action_spec()[\"num_actions\"]"
      ],
      "metadata": {
        "id": "oLoUto7V8Utv"
      },
      "execution_count": null,
      "outputs": []
    },
    {
      "cell_type": "code",
      "source": [
        "def generate_training_data(env, bot_id = 14, num_episodes = 1000, verbose=False):\n",
        "  for ep in range(num_episodes):\n",
        "    for agent in agents:\n",
        "      # Bots need to be restarted at the start of the episode.\n",
        "      if hasattr(agent, \"restart\"):\n",
        "        agent.restart()\n",
        "    time_step = env.reset()\n",
        "    episode_rewards = np.zeros(num_players)\n",
        "    while not time_step.last():\n",
        "      agents_output = [\n",
        "          agent.step(time_step, is_evaluation=True) for agent in agents\n",
        "      ]\n",
        "      action_list = [agent_output.action for agent_output in agents_output]\n",
        "      time_step = env.step(action_list)\n",
        "      episode_rewards += time_step.rewards\n",
        "    sum_episode_rewards += episode_rewards\n",
        "    if verbose:\n",
        "      print(f\"Finished episode {ep}, \"\n",
        "            + f\"avg returns: {sum_episode_rewards / (ep+1)}\")\n",
        "\n",
        "  return sum_episode_rewards / num_episodes"
      ],
      "metadata": {
        "id": "a_DRLdJ_71gd"
      },
      "execution_count": null,
      "outputs": []
    },
    {
      "cell_type": "code",
      "source": [
        "# class RandomAgent(rl_agent.AbstractAgent):\n",
        "#   \"\"\"Agent class that learns to play RRPS.\n",
        "\n",
        "#   You fill this in to create your RRPS agent.\n",
        "\n",
        "#   See the superclass for more info: https://github.com/google-deepmind/open_spiel/blob/master/open_spiel/python/rl_agent.py\n",
        "#   \"\"\"\n",
        "\n",
        "#   def __init__(self, num_actions, name=\"bot_agent\"):\n",
        "#     assert num_actions > 0\n",
        "#     self._num_actions = num_actions  # 3"
      ],
      "metadata": {
        "id": "M10WtF1lAEn2"
      },
      "execution_count": null,
      "outputs": []
    },
    {
      "cell_type": "code",
      "source": [
        "from google.colab import drive\n",
        "drive.mount('/content/drive')"
      ],
      "metadata": {
        "colab": {
          "base_uri": "https://localhost:8080/"
        },
        "id": "c4vB2sEaGsOU",
        "outputId": "0a6be330-1c00-4ca7-d48f-c2f70cc772c3"
      },
      "execution_count": null,
      "outputs": [
        {
          "output_type": "stream",
          "name": "stdout",
          "text": [
            "Mounted at /content/drive\n"
          ]
        }
      ]
    },
    {
      "cell_type": "markdown",
      "source": [
        "The below cell is used to generate training data. It runs games with one specific bot (in this case Greenberg) against randbot. This data was used to train the first iteration of the model (the one focused purely on beating Greenberg)."
      ],
      "metadata": {
        "id": "0lZzSaIfjaiF"
      }
    },
    {
      "cell_type": "code",
      "source": [
        "from tqdm import tqdm\n",
        "\n",
        "# Generate training data for specified bot\n",
        "botName = 'greenberg'\n",
        "botId = roshambo_bot_ids[botName]\n",
        "\n",
        "env = rl_environment.Environment(\n",
        "    \"repeated_game(stage_game=matrix_rps(),num_repetitions=\" +\n",
        "    f\"{pyspiel.ROSHAMBO_NUM_THROWS},\" +\n",
        "    f\"recall={RECALL})\",\n",
        "    include_full_state=True)\n",
        "num_players = 2\n",
        "num_actions = env.action_spec()[\"num_actions\"]\n",
        "\n",
        "trainBot = BotAgent(num_actions, pyspiel.make_roshambo_bot(0, botName), name=botName)  # Bot for whom train data being generated\n",
        "# randBot = BotAgent(num_actions, pyspiel.make_roshambo_bot(1, 'randbot'), name='randbot')\n",
        "randBot = myAgent\n",
        "agents = [trainBot, randBot]\n",
        "\n",
        "# Note: data is generated/saved in sets to avoid losing data if Colab kicks me off\n",
        "# With these numbers, each set takes ~3.5 mins (~2.1 sec/run)\n",
        "numSets = 30   # Number of sets of data to generate\n",
        "numRuns = 100  # Number of runs to generate training data for per set\n",
        "\n",
        "for setNum in range(numSets):\n",
        "  runData = []  # Contains data for each run\n",
        "\n",
        "  for run in tqdm(range(numRuns), desc=f\"Set {setNum+1} / {numSets}\"):\n",
        "    # Reset variables for new run\n",
        "    randBot.restart()\n",
        "    trainBot.restart()\n",
        "    time_step = env.reset()\n",
        "\n",
        "    result = []  # Contains move data for this game\n",
        "\n",
        "    while not time_step.last():\n",
        "      actionList = [agent.step(time_step, is_evaluation=True).action for agent in agents]\n",
        "      result.append(actionList)\n",
        "      time_step = env.step(actionList)\n",
        "\n",
        "    runData.append(np.array(result, dtype=np.uint8))\n",
        "\n",
        "  if len(runData) != numRuns:\n",
        "    print(f\"Warning: length should be {numRuns} but is {len(runData)}\")\n",
        "\n",
        "  runData = np.array(runData, dtype=np.uint8)\n",
        "  print('Data shape:', runData.shape)\n",
        "\n",
        "  # Save np array containing results for this set to google drive\n",
        "  np.save(f'/content/drive/My Drive/CS486A4/Greenberg_data_LSTMv1/{botName}_{setNum}.npy', runData)"
      ],
      "metadata": {
        "id": "ZN9Tb-0h_DfY"
      },
      "execution_count": null,
      "outputs": []
    },
    {
      "cell_type": "markdown",
      "source": [
        "The below cell is used to generate data. It runs games with one specific bot (in this case Greenberg) against every other bot. The data from this cell was not used in either of the models discussed in the report."
      ],
      "metadata": {
        "id": "M0s0uLBbjlZz"
      }
    },
    {
      "cell_type": "code",
      "source": [
        "# Unlike the above cell, this one focuses on generating data from different agents vs greenberg\n",
        "\n",
        "from tqdm import tqdm\n",
        "\n",
        "# Generate training data for specified bot\n",
        "botName = 'greenberg'\n",
        "botId = roshambo_bot_ids[botName]\n",
        "\n",
        "# List of agents that always play same sequence of moves (so don't need to run them a lot)\n",
        "deterministic_agents = [\n",
        "    'rockbot', 'rotatebot', 'pibot', 'debruijn81', 'textbot'\n",
        "]\n",
        "\n",
        "env = rl_environment.Environment(\n",
        "    \"repeated_game(stage_game=matrix_rps(),num_repetitions=\" +\n",
        "    f\"{pyspiel.ROSHAMBO_NUM_THROWS},\" +\n",
        "    f\"recall={RECALL})\",\n",
        "    include_full_state=True)\n",
        "num_players = 2\n",
        "num_actions = env.action_spec()[\"num_actions\"]\n",
        "\n",
        "trainBot = BotAgent(num_actions, pyspiel.make_roshambo_bot(0, botName), name=botName)  # Bot for whom train data being generated\n",
        "# randBot = BotAgent(num_actions, pyspiel.make_roshambo_bot(1, 'randbot'), name='randbot')\n",
        "# agents = [trainBot, randBot]\n",
        "\n",
        "numRuns = 100  # Number of runs to generate training data for per model\n",
        "\n",
        "for name, id in roshambo_bot_ids.items():\n",
        "  runData = []  # Contains data for each run\n",
        "\n",
        "  dataBot = BotAgent(num_actions, pyspiel.make_roshambo_bot(1, name), name=name)\n",
        "  agents = [trainBot, dataBot]\n",
        "\n",
        "  # Run less times if this is a deterministic agent\n",
        "  runTimes = 5 if name in deterministic_agents else numRuns\n",
        "\n",
        "  for run in tqdm(range(runTimes), desc=f\"Agent {name} ({id + 1} / {len(roshambo_bot_names)})\"):\n",
        "    # Reset variables for new run\n",
        "    time_step = env.reset()\n",
        "    trainBot.restart()\n",
        "    if hasattr(dataBot, 'restart'):\n",
        "      dataBot.restart()\n",
        "\n",
        "    result = []  # Contains move data for this game\n",
        "\n",
        "    while not time_step.last():\n",
        "      actionList = [agent.step(time_step, is_evaluation=True).action for agent in agents]\n",
        "      result.append(actionList)\n",
        "      time_step = env.step(actionList)\n",
        "\n",
        "    runData.append(np.array(result, dtype=np.uint8))\n",
        "\n",
        "  if len(runData) != numRuns:\n",
        "    print(f\"Warning: length should be {numRuns} but is {len(runData)}\")\n",
        "\n",
        "  runData = np.array(runData, dtype=np.uint8)\n",
        "  print('Data shape:', runData.shape)\n",
        "\n",
        "  # Save np array containing results for this set to google drive\n",
        "  np.save(f'/content/drive/My Drive/Greenberg_AllBots_Data/{botName}-VS-{name}.npy', runData)"
      ],
      "metadata": {
        "id": "M3T2btVTB02U"
      },
      "execution_count": null,
      "outputs": []
    },
    {
      "cell_type": "markdown",
      "source": [
        "The below cell is used to generate data. It runs games with every bot against randbot. The data from this cell was used in the second model discussed in the report (the one that can be generalized to other models).\n",
        "\n",
        "This cell generates 150 games for each bot. If generating data on Colab, I recommend making 3 copies of this notebook and running all 3 at once to speed up data creation."
      ],
      "metadata": {
        "id": "1AfB9YPej3q-"
      }
    },
    {
      "cell_type": "code",
      "source": [
        "# Unlike the above cell, this one focuses on generating data from different agents vs randbot\n",
        "\n",
        "from tqdm import tqdm\n",
        "\n",
        "# List of agents that always play same sequence of moves (unused)\n",
        "deterministic_agents = [\n",
        "    'rockbot', 'rotatebot', 'pibot', 'debruijn81', 'textbot'\n",
        "]\n",
        "\n",
        "env = rl_environment.Environment(\n",
        "    \"repeated_game(stage_game=matrix_rps(),num_repetitions=\" +\n",
        "    f\"{pyspiel.ROSHAMBO_NUM_THROWS},\" +\n",
        "    f\"recall={RECALL})\",\n",
        "    include_full_state=True)\n",
        "num_players = 2\n",
        "num_actions = env.action_spec()[\"num_actions\"]\n",
        "\n",
        "# trainBot = BotAgent(num_actions, pyspiel.make_roshambo_bot(0, botName), name=botName)  # Bot for whom train data being generated\n",
        "randBot = BotAgent(num_actions, pyspiel.make_roshambo_bot(0, 'randbot'), name='randbot')\n",
        "# agents = [trainBot, randBot]\n",
        "\n",
        "numRuns = 150  # Number of runs to generate training data for per model\n",
        "\n",
        "for name, id in roshambo_bot_ids.items():\n",
        "  runData = []  # Contains data for each run\n",
        "\n",
        "  trainBot = BotAgent(num_actions, pyspiel.make_roshambo_bot(0, name), name=name)\n",
        "  agents = [trainBot, randBot]\n",
        "\n",
        "  # Run less times if this is a deterministic agent\n",
        "  # runTimes = 5 if name in deterministic_agents else numRuns\n",
        "  runTimes = numRuns\n",
        "\n",
        "  for run in tqdm(range(runTimes), desc=f\"Agent {name} ({id + 1} / {len(roshambo_bot_names)})\"):\n",
        "    # Reset variables for new run\n",
        "    time_step = env.reset()\n",
        "    randBot.restart()\n",
        "    if hasattr(trainBot, 'restart'):\n",
        "      trainBot.restart()\n",
        "\n",
        "    result = []  # Contains move data for this game\n",
        "\n",
        "    while not time_step.last():\n",
        "      actionList = [agent.step(time_step, is_evaluation=True).action for agent in agents]\n",
        "      result.append(actionList)\n",
        "      time_step = env.step(actionList)\n",
        "\n",
        "    runData.append(np.array(result, dtype=np.uint8))\n",
        "\n",
        "  if len(runData) != numRuns:\n",
        "    print(f\"Warning: length should be {numRuns} but is {len(runData)}\")\n",
        "\n",
        "  runData = np.array(runData, dtype=np.uint8)\n",
        "  print('Data shape:', runData.shape)\n",
        "\n",
        "  # Save np array containing results for this set to google drive\n",
        "  np.save(f'/content/drive/My Drive/CS486A4/AllBots_vs_random/{name}-VS-randbot-7.npy', runData)"
      ],
      "metadata": {
        "id": "u6GIZMs8buTZ",
        "colab": {
          "base_uri": "https://localhost:8080/"
        },
        "outputId": "af07e652-6e9a-473d-b847-d27f32212791"
      },
      "execution_count": null,
      "outputs": [
        {
          "output_type": "stream",
          "name": "stderr",
          "text": [
            "Agent actr_lag2_decay (1 / 43): 100%|██████████| 150/150 [04:50<00:00,  1.94s/it]\n"
          ]
        },
        {
          "output_type": "stream",
          "name": "stdout",
          "text": [
            "Data shape: (150, 1000, 2)\n"
          ]
        },
        {
          "output_type": "stream",
          "name": "stderr",
          "text": [
            "Agent adddriftbot2 (2 / 43): 100%|██████████| 150/150 [04:50<00:00,  1.94s/it]\n"
          ]
        },
        {
          "output_type": "stream",
          "name": "stdout",
          "text": [
            "Data shape: (150, 1000, 2)\n"
          ]
        },
        {
          "output_type": "stream",
          "name": "stderr",
          "text": [
            "Agent addshiftbot3 (3 / 43): 100%|██████████| 150/150 [04:51<00:00,  1.94s/it]\n"
          ]
        },
        {
          "output_type": "stream",
          "name": "stdout",
          "text": [
            "Data shape: (150, 1000, 2)\n"
          ]
        },
        {
          "output_type": "stream",
          "name": "stderr",
          "text": [
            "Agent antiflatbot (4 / 43): 100%|██████████| 150/150 [04:50<00:00,  1.94s/it]\n"
          ]
        },
        {
          "output_type": "stream",
          "name": "stdout",
          "text": [
            "Data shape: (150, 1000, 2)\n"
          ]
        },
        {
          "output_type": "stream",
          "name": "stderr",
          "text": [
            "Agent antirotnbot (5 / 43): 100%|██████████| 150/150 [04:51<00:00,  1.94s/it]\n"
          ]
        },
        {
          "output_type": "stream",
          "name": "stdout",
          "text": [
            "Data shape: (150, 1000, 2)\n"
          ]
        },
        {
          "output_type": "stream",
          "name": "stderr",
          "text": [
            "Agent biopic (6 / 43): 100%|██████████| 150/150 [04:55<00:00,  1.97s/it]\n"
          ]
        },
        {
          "output_type": "stream",
          "name": "stdout",
          "text": [
            "Data shape: (150, 1000, 2)\n"
          ]
        },
        {
          "output_type": "stream",
          "name": "stderr",
          "text": [
            "Agent boom (7 / 43): 100%|██████████| 150/150 [04:57<00:00,  1.98s/it]\n"
          ]
        },
        {
          "output_type": "stream",
          "name": "stdout",
          "text": [
            "Data shape: (150, 1000, 2)\n"
          ]
        },
        {
          "output_type": "stream",
          "name": "stderr",
          "text": [
            "Agent copybot (8 / 43): 100%|██████████| 150/150 [04:58<00:00,  1.99s/it]\n"
          ]
        },
        {
          "output_type": "stream",
          "name": "stdout",
          "text": [
            "Data shape: (150, 1000, 2)\n"
          ]
        },
        {
          "output_type": "stream",
          "name": "stderr",
          "text": [
            "Agent debruijn81 (9 / 43): 100%|██████████| 150/150 [04:55<00:00,  1.97s/it]\n"
          ]
        },
        {
          "output_type": "stream",
          "name": "stdout",
          "text": [
            "Data shape: (150, 1000, 2)\n"
          ]
        },
        {
          "output_type": "stream",
          "name": "stderr",
          "text": [
            "Agent driftbot (10 / 43): 100%|██████████| 150/150 [04:55<00:00,  1.97s/it]\n"
          ]
        },
        {
          "output_type": "stream",
          "name": "stdout",
          "text": [
            "Data shape: (150, 1000, 2)\n"
          ]
        },
        {
          "output_type": "stream",
          "name": "stderr",
          "text": [
            "Agent flatbot3 (11 / 43): 100%|██████████| 150/150 [04:54<00:00,  1.96s/it]\n"
          ]
        },
        {
          "output_type": "stream",
          "name": "stdout",
          "text": [
            "Data shape: (150, 1000, 2)\n"
          ]
        },
        {
          "output_type": "stream",
          "name": "stderr",
          "text": [
            "Agent foxtrotbot (12 / 43): 100%|██████████| 150/150 [04:53<00:00,  1.96s/it]\n"
          ]
        },
        {
          "output_type": "stream",
          "name": "stdout",
          "text": [
            "Data shape: (150, 1000, 2)\n"
          ]
        },
        {
          "output_type": "stream",
          "name": "stderr",
          "text": [
            "Agent freqbot2 (13 / 43): 100%|██████████| 150/150 [04:53<00:00,  1.96s/it]\n"
          ]
        },
        {
          "output_type": "stream",
          "name": "stdout",
          "text": [
            "Data shape: (150, 1000, 2)\n"
          ]
        },
        {
          "output_type": "stream",
          "name": "stderr",
          "text": [
            "Agent granite (14 / 43): 100%|██████████| 150/150 [04:52<00:00,  1.95s/it]\n"
          ]
        },
        {
          "output_type": "stream",
          "name": "stdout",
          "text": [
            "Data shape: (150, 1000, 2)\n"
          ]
        },
        {
          "output_type": "stream",
          "name": "stderr",
          "text": [
            "Agent greenberg (15 / 43): 100%|██████████| 150/150 [05:17<00:00,  2.12s/it]\n"
          ]
        },
        {
          "output_type": "stream",
          "name": "stdout",
          "text": [
            "Data shape: (150, 1000, 2)\n"
          ]
        },
        {
          "output_type": "stream",
          "name": "stderr",
          "text": [
            "Agent halbot (16 / 43): 100%|██████████| 150/150 [05:02<00:00,  2.01s/it]\n"
          ]
        },
        {
          "output_type": "stream",
          "name": "stdout",
          "text": [
            "Data shape: (150, 1000, 2)\n"
          ]
        },
        {
          "output_type": "stream",
          "name": "stderr",
          "text": [
            "Agent inocencio (17 / 43): 100%|██████████| 150/150 [04:58<00:00,  1.99s/it]\n"
          ]
        },
        {
          "output_type": "stream",
          "name": "stdout",
          "text": [
            "Data shape: (150, 1000, 2)\n"
          ]
        },
        {
          "output_type": "stream",
          "name": "stderr",
          "text": [
            "Agent iocainebot (18 / 43): 100%|██████████| 150/150 [04:59<00:00,  2.00s/it]\n"
          ]
        },
        {
          "output_type": "stream",
          "name": "stdout",
          "text": [
            "Data shape: (150, 1000, 2)\n"
          ]
        },
        {
          "output_type": "stream",
          "name": "stderr",
          "text": [
            "Agent marble (19 / 43): 100%|██████████| 150/150 [04:54<00:00,  1.96s/it]\n"
          ]
        },
        {
          "output_type": "stream",
          "name": "stdout",
          "text": [
            "Data shape: (150, 1000, 2)\n"
          ]
        },
        {
          "output_type": "stream",
          "name": "stderr",
          "text": [
            "Agent markov5 (20 / 43): 100%|██████████| 150/150 [04:54<00:00,  1.96s/it]\n"
          ]
        },
        {
          "output_type": "stream",
          "name": "stdout",
          "text": [
            "Data shape: (150, 1000, 2)\n"
          ]
        },
        {
          "output_type": "stream",
          "name": "stderr",
          "text": [
            "Agent markovbails (21 / 43): 100%|██████████| 150/150 [04:54<00:00,  1.97s/it]\n"
          ]
        },
        {
          "output_type": "stream",
          "name": "stdout",
          "text": [
            "Data shape: (150, 1000, 2)\n"
          ]
        },
        {
          "output_type": "stream",
          "name": "stderr",
          "text": [
            "Agent mixed_strategy (22 / 43): 100%|██████████| 150/150 [04:54<00:00,  1.96s/it]\n"
          ]
        },
        {
          "output_type": "stream",
          "name": "stdout",
          "text": [
            "Data shape: (150, 1000, 2)\n"
          ]
        },
        {
          "output_type": "stream",
          "name": "stderr",
          "text": [
            "Agent mod1bot (23 / 43): 100%|██████████| 150/150 [04:54<00:00,  1.96s/it]\n"
          ]
        },
        {
          "output_type": "stream",
          "name": "stdout",
          "text": [
            "Data shape: (150, 1000, 2)\n"
          ]
        },
        {
          "output_type": "stream",
          "name": "stderr",
          "text": [
            "Agent multibot (24 / 43): 100%|██████████| 150/150 [04:55<00:00,  1.97s/it]\n"
          ]
        },
        {
          "output_type": "stream",
          "name": "stdout",
          "text": [
            "Data shape: (150, 1000, 2)\n"
          ]
        },
        {
          "output_type": "stream",
          "name": "stderr",
          "text": [
            "Agent peterbot (25 / 43): 100%|██████████| 150/150 [04:55<00:00,  1.97s/it]\n"
          ]
        },
        {
          "output_type": "stream",
          "name": "stdout",
          "text": [
            "Data shape: (150, 1000, 2)\n"
          ]
        },
        {
          "output_type": "stream",
          "name": "stderr",
          "text": [
            "Agent phasenbott (26 / 43): 100%|██████████| 150/150 [04:55<00:00,  1.97s/it]\n"
          ]
        },
        {
          "output_type": "stream",
          "name": "stdout",
          "text": [
            "Data shape: (150, 1000, 2)\n"
          ]
        },
        {
          "output_type": "stream",
          "name": "stderr",
          "text": [
            "Agent pibot (27 / 43): 100%|██████████| 150/150 [04:53<00:00,  1.96s/it]\n"
          ]
        },
        {
          "output_type": "stream",
          "name": "stdout",
          "text": [
            "Data shape: (150, 1000, 2)\n"
          ]
        },
        {
          "output_type": "stream",
          "name": "stderr",
          "text": [
            "Agent piedra (28 / 43): 100%|██████████| 150/150 [04:53<00:00,  1.96s/it]\n"
          ]
        },
        {
          "output_type": "stream",
          "name": "stdout",
          "text": [
            "Data shape: (150, 1000, 2)\n"
          ]
        },
        {
          "output_type": "stream",
          "name": "stderr",
          "text": [
            "Agent predbot (29 / 43): 100%|██████████| 150/150 [04:53<00:00,  1.96s/it]\n"
          ]
        },
        {
          "output_type": "stream",
          "name": "stdout",
          "text": [
            "Data shape: (150, 1000, 2)\n"
          ]
        },
        {
          "output_type": "stream",
          "name": "stderr",
          "text": [
            "Agent r226bot (30 / 43): 100%|██████████| 150/150 [04:54<00:00,  1.96s/it]\n"
          ]
        },
        {
          "output_type": "stream",
          "name": "stdout",
          "text": [
            "Data shape: (150, 1000, 2)\n"
          ]
        },
        {
          "output_type": "stream",
          "name": "stderr",
          "text": [
            "Agent randbot (31 / 43): 100%|██████████| 150/150 [04:53<00:00,  1.96s/it]\n"
          ]
        },
        {
          "output_type": "stream",
          "name": "stdout",
          "text": [
            "Data shape: (150, 1000, 2)\n"
          ]
        },
        {
          "output_type": "stream",
          "name": "stderr",
          "text": [
            "Agent robertot (32 / 43): 100%|██████████| 150/150 [04:55<00:00,  1.97s/it]\n"
          ]
        },
        {
          "output_type": "stream",
          "name": "stdout",
          "text": [
            "Data shape: (150, 1000, 2)\n"
          ]
        },
        {
          "output_type": "stream",
          "name": "stderr",
          "text": [
            "Agent rockbot (33 / 43): 100%|██████████| 150/150 [04:57<00:00,  1.98s/it]\n"
          ]
        },
        {
          "output_type": "stream",
          "name": "stdout",
          "text": [
            "Data shape: (150, 1000, 2)\n"
          ]
        },
        {
          "output_type": "stream",
          "name": "stderr",
          "text": [
            "Agent rotatebot (34 / 43): 100%|██████████| 150/150 [04:56<00:00,  1.97s/it]\n"
          ]
        },
        {
          "output_type": "stream",
          "name": "stdout",
          "text": [
            "Data shape: (150, 1000, 2)\n"
          ]
        },
        {
          "output_type": "stream",
          "name": "stderr",
          "text": [
            "Agent russrocker4 (35 / 43): 100%|██████████| 150/150 [04:54<00:00,  1.96s/it]\n"
          ]
        },
        {
          "output_type": "stream",
          "name": "stdout",
          "text": [
            "Data shape: (150, 1000, 2)\n"
          ]
        },
        {
          "output_type": "stream",
          "name": "stderr",
          "text": [
            "Agent shofar (36 / 43): 100%|██████████| 150/150 [04:56<00:00,  1.97s/it]\n"
          ]
        },
        {
          "output_type": "stream",
          "name": "stdout",
          "text": [
            "Data shape: (150, 1000, 2)\n"
          ]
        },
        {
          "output_type": "stream",
          "name": "stderr",
          "text": [
            "Agent sunCrazybot (37 / 43): 100%|██████████| 150/150 [04:54<00:00,  1.97s/it]\n"
          ]
        },
        {
          "output_type": "stream",
          "name": "stdout",
          "text": [
            "Data shape: (150, 1000, 2)\n"
          ]
        },
        {
          "output_type": "stream",
          "name": "stderr",
          "text": [
            "Agent sunNervebot (38 / 43): 100%|██████████| 150/150 [04:58<00:00,  1.99s/it]\n"
          ]
        },
        {
          "output_type": "stream",
          "name": "stdout",
          "text": [
            "Data shape: (150, 1000, 2)\n"
          ]
        },
        {
          "output_type": "stream",
          "name": "stderr",
          "text": [
            "Agent sweetrock (39 / 43): 100%|██████████| 150/150 [04:55<00:00,  1.97s/it]\n"
          ]
        },
        {
          "output_type": "stream",
          "name": "stdout",
          "text": [
            "Data shape: (150, 1000, 2)\n"
          ]
        },
        {
          "output_type": "stream",
          "name": "stderr",
          "text": [
            "Agent switchalot (40 / 43): 100%|██████████| 150/150 [04:54<00:00,  1.96s/it]\n"
          ]
        },
        {
          "output_type": "stream",
          "name": "stdout",
          "text": [
            "Data shape: (150, 1000, 2)\n"
          ]
        },
        {
          "output_type": "stream",
          "name": "stderr",
          "text": [
            "Agent switchbot (41 / 43): 100%|██████████| 150/150 [04:54<00:00,  1.96s/it]\n"
          ]
        },
        {
          "output_type": "stream",
          "name": "stdout",
          "text": [
            "Data shape: (150, 1000, 2)\n"
          ]
        },
        {
          "output_type": "stream",
          "name": "stderr",
          "text": [
            "Agent textbot (42 / 43): 100%|██████████| 150/150 [04:54<00:00,  1.96s/it]\n"
          ]
        },
        {
          "output_type": "stream",
          "name": "stdout",
          "text": [
            "Data shape: (150, 1000, 2)\n"
          ]
        },
        {
          "output_type": "stream",
          "name": "stderr",
          "text": [
            "Agent zq_move (43 / 43): 100%|██████████| 150/150 [04:57<00:00,  1.98s/it]"
          ]
        },
        {
          "output_type": "stream",
          "name": "stdout",
          "text": [
            "Data shape: (150, 1000, 2)\n"
          ]
        },
        {
          "output_type": "stream",
          "name": "stderr",
          "text": [
            "\n"
          ]
        }
      ]
    },
    {
      "cell_type": "code",
      "source": [],
      "metadata": {
        "id": "HPadFgGTknGh"
      },
      "execution_count": null,
      "outputs": []
    }
  ]
}